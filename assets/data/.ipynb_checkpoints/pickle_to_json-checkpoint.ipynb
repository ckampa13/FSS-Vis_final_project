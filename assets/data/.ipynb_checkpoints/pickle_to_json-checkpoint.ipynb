{
 "cells": [
  {
   "cell_type": "markdown",
   "metadata": {},
   "source": [
    "## Imports"
   ]
  },
  {
   "cell_type": "code",
   "execution_count": 1,
   "metadata": {},
   "outputs": [],
   "source": [
    "import numpy as np\n",
    "import pickle as pkl\n",
    "import pandas as pd\n",
    "\n",
    "import os\n",
    "\n",
    "%matplotlib inline"
   ]
  },
  {
   "cell_type": "code",
   "execution_count": 2,
   "metadata": {},
   "outputs": [],
   "source": [
    "pkl_dir = \"pkl/\"\n",
    "pkl_files = os.listdir(pkl_dir)"
   ]
  },
  {
   "cell_type": "markdown",
   "metadata": {},
   "source": [
    "## Run 05"
   ]
  },
  {
   "cell_type": "code",
   "execution_count": 3,
   "metadata": {},
   "outputs": [],
   "source": [
    "r5_files = [f for f in pkl_files if \"run_05\" in f]"
   ]
  },
  {
   "cell_type": "code",
   "execution_count": 62,
   "metadata": {},
   "outputs": [],
   "source": [
    "#r5_files"
   ]
  },
  {
   "cell_type": "code",
   "execution_count": 5,
   "metadata": {},
   "outputs": [],
   "source": [
    "df = []"
   ]
  },
  {
   "cell_type": "code",
   "execution_count": 6,
   "metadata": {},
   "outputs": [],
   "source": [
    "for f in r5_files:\n",
    "    df_ = pd.read_pickle(pkl_dir+f)\n",
    "    df.append(df_)"
   ]
  },
  {
   "cell_type": "code",
   "execution_count": 7,
   "metadata": {},
   "outputs": [],
   "source": [
    "df = pd.concat(df, axis=0, ignore_index=True)"
   ]
  },
  {
   "cell_type": "code",
   "execution_count": 61,
   "metadata": {
    "scrolled": true
   },
   "outputs": [],
   "source": [
    "#df"
   ]
  },
  {
   "cell_type": "markdown",
   "metadata": {},
   "source": [
    "Interpolate B field!"
   ]
  },
  {
   "cell_type": "code",
   "execution_count": 9,
   "metadata": {},
   "outputs": [],
   "source": [
    "from mu2e.tools.mapinterp import get_df_interp_func"
   ]
  },
  {
   "cell_type": "code",
   "execution_count": 10,
   "metadata": {},
   "outputs": [],
   "source": [
    "from mu2e import mu2e_ext_path\n",
    "from mu2e.dataframeprod import DataFrameMaker"
   ]
  },
  {
   "cell_type": "code",
   "execution_count": 11,
   "metadata": {},
   "outputs": [],
   "source": [
    "df_B = DataFrameMaker(mu2e_ext_path+\"datafiles/Mau13/Mu2e_DSMap_V13\",input_type='pkl').data_frame"
   ]
  },
  {
   "cell_type": "code",
   "execution_count": 12,
   "metadata": {},
   "outputs": [],
   "source": [
    "df_B.eval(\"Bx = Bx / 10000\",inplace=True)\n",
    "df_B.eval(\"By = By / 10000\",inplace=True)\n",
    "df_B.eval(\"Bz = Bz / 10000\",inplace=True)"
   ]
  },
  {
   "cell_type": "code",
   "execution_count": 13,
   "metadata": {},
   "outputs": [],
   "source": [
    "df_B.eval(\"X = X * 1000\",inplace=True)\n",
    "df_B.eval(\"Y = Y * 1000\",inplace=True)\n",
    "df_B.eval(\"Z = Z * 1000\",inplace=True)"
   ]
  },
  {
   "cell_type": "code",
   "execution_count": 14,
   "metadata": {},
   "outputs": [],
   "source": [
    "bfield_interp_mm = get_df_interp_func(df_B)"
   ]
  },
  {
   "cell_type": "code",
   "execution_count": 60,
   "metadata": {},
   "outputs": [],
   "source": [
    "#bfield_interp_mm(40, 11, 5922, True)"
   ]
  },
  {
   "cell_type": "code",
   "execution_count": 17,
   "metadata": {},
   "outputs": [],
   "source": [
    "df[\"B_tuple\"] = [bfield_interp_mm(row.X,row.Y,row.Z) for row in df.itertuples()]"
   ]
  },
  {
   "cell_type": "code",
   "execution_count": 18,
   "metadata": {},
   "outputs": [],
   "source": [
    "df[\"Bx\"] = [row.B_tuple[0] for row in df.itertuples()]\n",
    "df[\"By\"] = [row.B_tuple[1] for row in df.itertuples()]\n",
    "df[\"Bz\"] = [row.B_tuple[2] for row in df.itertuples()]"
   ]
  },
  {
   "cell_type": "code",
   "execution_count": 19,
   "metadata": {},
   "outputs": [],
   "source": [
    "from mu2e.tools.particletransport import *"
   ]
  },
  {
   "cell_type": "code",
   "execution_count": 63,
   "metadata": {},
   "outputs": [],
   "source": [
    "#state = list(test[[\"X\",\"Y\",\"Z\",\"Vx\",\"Vy\",\"Vz\"]].values)"
   ]
  },
  {
   "cell_type": "code",
   "execution_count": 64,
   "metadata": {},
   "outputs": [],
   "source": [
    "#f = lorentz_force(state, 0, bfield_interp_mm)[3:]"
   ]
  },
  {
   "cell_type": "code",
   "execution_count": 65,
   "metadata": {},
   "outputs": [],
   "source": [
    "#f"
   ]
  },
  {
   "cell_type": "code",
   "execution_count": 66,
   "metadata": {},
   "outputs": [],
   "source": [
    "#state[:3]"
   ]
  },
  {
   "cell_type": "code",
   "execution_count": 36,
   "metadata": {},
   "outputs": [],
   "source": [
    "df[\"Force_tuple\"] = [lorentz_force(list(row)[1:], 0, bfield_interp_mm)[3:] for row in df[[\"X\",\"Y\",\"Z\",\"Vx\",\"Vy\",\"Vz\"]].itertuples()]"
   ]
  },
  {
   "cell_type": "code",
   "execution_count": 37,
   "metadata": {},
   "outputs": [],
   "source": [
    "df[\"F\"] = [(row.Force_tuple[0]**2 + row.Force_tuple[1]**2 + row.Force_tuple[2]**2)**(1/2) for row in df.itertuples()]"
   ]
  },
  {
   "cell_type": "code",
   "execution_count": 67,
   "metadata": {},
   "outputs": [],
   "source": [
    "#df.F.describe()"
   ]
  },
  {
   "cell_type": "code",
   "execution_count": 68,
   "metadata": {},
   "outputs": [],
   "source": [
    "#df.F.hist()"
   ]
  },
  {
   "cell_type": "code",
   "execution_count": 51,
   "metadata": {},
   "outputs": [],
   "source": [
    "df.eval(\"V = (Vx**2 + Vy**2 + Vz**2)**(1/2)\", inplace=True)\n",
    "df.eval(\"B = (Bx**2 + By**2 + Bz**2)**(1/2)\", inplace=True)"
   ]
  },
  {
   "cell_type": "code",
   "execution_count": 69,
   "metadata": {},
   "outputs": [],
   "source": [
    "#df.V.hist()"
   ]
  },
  {
   "cell_type": "code",
   "execution_count": 70,
   "metadata": {},
   "outputs": [],
   "source": [
    "#df.V.describe()"
   ]
  },
  {
   "cell_type": "code",
   "execution_count": 42,
   "metadata": {},
   "outputs": [],
   "source": [
    "df[\"Fx\"] = [row.Force_tuple[0] for row in df.itertuples()]\n",
    "df[\"Fy\"] = [row.Force_tuple[1] for row in df.itertuples()]\n",
    "df[\"Fz\"] = [row.Force_tuple[2] for row in df.itertuples()]"
   ]
  },
  {
   "cell_type": "code",
   "execution_count": 55,
   "metadata": {},
   "outputs": [
    {
     "data": {
      "text/plain": [
       "Index(['X', 'Y', 'Z', 'Vx', 'Vy', 'Vz', 'time', 'event', 'E0', 'EF', 'B_tuple',\n",
       "       'Bx', 'By', 'Bz', 'Force_tuple', 'F', 'V', 'Fx', 'Fy', 'Fz', 'B'],\n",
       "      dtype='object')"
      ]
     },
     "execution_count": 55,
     "metadata": {},
     "output_type": "execute_result"
    }
   ],
   "source": [
    "df.columns"
   ]
  },
  {
   "cell_type": "code",
   "execution_count": 71,
   "metadata": {},
   "outputs": [],
   "source": [
    "#df.event.unique()"
   ]
  },
  {
   "cell_type": "code",
   "execution_count": 57,
   "metadata": {},
   "outputs": [
    {
     "data": {
      "text/plain": [
       "X        5.524197e+02\n",
       "Y        5.240416e+02\n",
       "Z        1.200180e+04\n",
       "Vx       2.993064e+11\n",
       "Vy       2.997695e+11\n",
       "Vz       2.905446e+11\n",
       "time     8.000000e-08\n",
       "event    1.500000e+01\n",
       "E0       1.050012e+02\n",
       "EF       1.050013e+02\n",
       "Bx       1.074264e-01\n",
       "By       9.762762e-02\n",
       "Bz       2.130795e+00\n",
       "F        5.477084e+20\n",
       "V        2.997889e+11\n",
       "Fx       5.324758e+20\n",
       "Fy       5.359299e+20\n",
       "Fz       3.517382e+19\n",
       "B        2.135084e+00\n",
       "dtype: float64"
      ]
     },
     "execution_count": 57,
     "metadata": {},
     "output_type": "execute_result"
    }
   ],
   "source": [
    "df.max()"
   ]
  }
 ],
 "metadata": {
  "kernelspec": {
   "display_name": "Python [conda env:Mu2E]",
   "language": "python",
   "name": "conda-env-Mu2E-py"
  },
  "language_info": {
   "codemirror_mode": {
    "name": "ipython",
    "version": 3
   },
   "file_extension": ".py",
   "mimetype": "text/x-python",
   "name": "python",
   "nbconvert_exporter": "python",
   "pygments_lexer": "ipython3",
   "version": "3.7.4"
  }
 },
 "nbformat": 4,
 "nbformat_minor": 2
}
